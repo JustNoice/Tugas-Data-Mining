{
  "nbformat": 4,
  "nbformat_minor": 0,
  "metadata": {
    "colab": {
      "provenance": [],
      "authorship_tag": "ABX9TyPfvu9gsznYwc/DgYXX5unu",
      "include_colab_link": true
    },
    "kernelspec": {
      "name": "python3",
      "display_name": "Python 3"
    },
    "language_info": {
      "name": "python"
    }
  },
  "cells": [
    {
      "cell_type": "markdown",
      "metadata": {
        "id": "view-in-github",
        "colab_type": "text"
      },
      "source": [
        "<a href=\"https://colab.research.google.com/github/JustNoice/Tugas-Data-Mining/blob/main/Tugas2/Tugas2_Preprocessing_Data_Mining.ipynb\" target=\"_parent\"><img src=\"https://colab.research.google.com/assets/colab-badge.svg\" alt=\"Open In Colab\"/></a>"
      ]
    },
    {
      "cell_type": "code",
      "execution_count": 59,
      "metadata": {
        "id": "R4E9Rzw--Es8"
      },
      "outputs": [],
      "source": [
        "import numpy as np\n",
        "import matplotlib.pyplot as plt\n",
        "import pandas as pd"
      ]
    },
    {
      "cell_type": "code",
      "source": [
        "dataset = pd.read_csv('datasv.csv')\n",
        "x = dataset.iloc[:, :-1].values\n",
        "y = dataset.iloc[:, -1].values"
      ],
      "metadata": {
        "id": "xbzu9dcO-xVy"
      },
      "execution_count": 60,
      "outputs": []
    },
    {
      "cell_type": "code",
      "source": [
        "print(x)"
      ],
      "metadata": {
        "colab": {
          "base_uri": "https://localhost:8080/"
        },
        "id": "0kGhH8cc-2d1",
        "outputId": "e305270e-5902-4f8e-af49-626b4f55d97b"
      },
      "execution_count": 61,
      "outputs": [
        {
          "output_type": "stream",
          "name": "stdout",
          "text": [
            "[['Crab' 140.0 70.0]\n",
            " ['Oyster' 30.0 15.0]\n",
            " ['Mussel' 75.0 33.0]\n",
            " ['Lobster' 300.0 150.0]\n",
            " ['Snail' nan 80.0]\n",
            " ['Driftwood' 10.0 5.0]\n",
            " ['Trash' nan 10.0]\n",
            " ['Clam' 90.0 nan]\n",
            " ['Periwinkle' nan 40.0]\n",
            " ['Crayfish' 79.0 60.0]]\n"
          ]
        }
      ]
    },
    {
      "cell_type": "code",
      "source": [
        "print(y)"
      ],
      "metadata": {
        "colab": {
          "base_uri": "https://localhost:8080/"
        },
        "id": "HnbzEnP_-8Xu",
        "outputId": "f005866b-cc38-4409-e3a1-de34d77c042f"
      },
      "execution_count": 62,
      "outputs": [
        {
          "output_type": "stream",
          "name": "stdout",
          "text": [
            "['Yes' 'Yes' 'Yes' 'yes' 'Yes' 'No' 'No' 'Yes' 'No' 'Yes']\n"
          ]
        }
      ]
    },
    {
      "cell_type": "code",
      "source": [
        "from sklearn.impute import SimpleImputer\n",
        "imputer = SimpleImputer(missing_values=np.nan, strategy='mean')\n",
        "imputer.fit(x[:, 1:3])\n",
        "x[:, 1:3] = imputer.transform(x[:, 1:3])"
      ],
      "metadata": {
        "id": "9v0lOExd_IXN"
      },
      "execution_count": 63,
      "outputs": []
    },
    {
      "cell_type": "code",
      "source": [
        "print(x)"
      ],
      "metadata": {
        "id": "FAcMNgEv_LIM",
        "outputId": "77eafdc2-3834-4714-f825-1d7dad3e71ce",
        "colab": {
          "base_uri": "https://localhost:8080/"
        }
      },
      "execution_count": 64,
      "outputs": [
        {
          "output_type": "stream",
          "name": "stdout",
          "text": [
            "[['Crab' 140.0 70.0]\n",
            " ['Oyster' 30.0 15.0]\n",
            " ['Mussel' 75.0 33.0]\n",
            " ['Lobster' 300.0 150.0]\n",
            " ['Snail' 103.42857142857143 80.0]\n",
            " ['Driftwood' 10.0 5.0]\n",
            " ['Trash' 103.42857142857143 10.0]\n",
            " ['Clam' 90.0 51.44444444444444]\n",
            " ['Periwinkle' 103.42857142857143 40.0]\n",
            " ['Crayfish' 79.0 60.0]]\n"
          ]
        }
      ]
    },
    {
      "cell_type": "code",
      "source": [
        "from sklearn.compose import ColumnTransformer\n",
        "from sklearn.preprocessing import OneHotEncoder\n",
        "ct = ColumnTransformer(transformers=[('encoder', OneHotEncoder(), [0])], remainder='passthrough')\n",
        "x = np.array(ct.fit_transform(x))"
      ],
      "metadata": {
        "id": "_sh47eqm_Pf1"
      },
      "execution_count": 65,
      "outputs": []
    },
    {
      "cell_type": "code",
      "source": [
        "print(x)"
      ],
      "metadata": {
        "colab": {
          "base_uri": "https://localhost:8080/"
        },
        "id": "-sRXA_DvGCgI",
        "outputId": "5774db7c-17c1-4a0d-b539-bcb710b45599"
      },
      "execution_count": 66,
      "outputs": [
        {
          "output_type": "stream",
          "name": "stdout",
          "text": [
            "  (0, 1)\t1.0\n",
            "  (0, 10)\t140.0\n",
            "  (0, 11)\t70.0\n",
            "  (1, 6)\t1.0\n",
            "  (1, 10)\t30.0\n",
            "  (1, 11)\t15.0\n",
            "  (2, 5)\t1.0\n",
            "  (2, 10)\t75.0\n",
            "  (2, 11)\t33.0\n",
            "  (3, 4)\t1.0\n",
            "  (3, 10)\t300.0\n",
            "  (3, 11)\t150.0\n",
            "  (4, 8)\t1.0\n",
            "  (4, 10)\t103.42857142857143\n",
            "  (4, 11)\t80.0\n",
            "  (5, 3)\t1.0\n",
            "  (5, 10)\t10.0\n",
            "  (5, 11)\t5.0\n",
            "  (6, 9)\t1.0\n",
            "  (6, 10)\t103.42857142857143\n",
            "  (6, 11)\t10.0\n",
            "  (7, 0)\t1.0\n",
            "  (7, 10)\t90.0\n",
            "  (7, 11)\t51.44444444444444\n",
            "  (8, 7)\t1.0\n",
            "  (8, 10)\t103.42857142857143\n",
            "  (8, 11)\t40.0\n",
            "  (9, 2)\t1.0\n",
            "  (9, 10)\t79.0\n",
            "  (9, 11)\t60.0\n"
          ]
        }
      ]
    },
    {
      "cell_type": "code",
      "source": [
        "from sklearn.preprocessing import LabelEncoder\n",
        "le = LabelEncoder()\n",
        "y = le.fit_transform(y)"
      ],
      "metadata": {
        "id": "cYOV6oZZGQgX"
      },
      "execution_count": 67,
      "outputs": []
    },
    {
      "cell_type": "code",
      "source": [
        "print(y)"
      ],
      "metadata": {
        "colab": {
          "base_uri": "https://localhost:8080/"
        },
        "id": "nO0uuRH7GSvJ",
        "outputId": "28c2d55b-5a99-429a-d09a-121bee8e80ef"
      },
      "execution_count": 68,
      "outputs": [
        {
          "output_type": "stream",
          "name": "stdout",
          "text": [
            "[1 1 1 2 1 0 0 1 0 1]\n"
          ]
        }
      ]
    }
  ]
}